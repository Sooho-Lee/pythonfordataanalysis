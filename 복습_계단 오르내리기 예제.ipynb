{
 "cells": [
  {
   "cell_type": "markdown",
   "id": "7e19ccf6",
   "metadata": {},
   "source": [
    "계단 오르내리기 예제\n",
    "- numpy\n",
    "1. 계단을 1000번 수행하면서 N차시에 어느 위치에 있는지 알 수 있다.\n",
    "2. 처음 시작 칸으로부터 최초로 몇 번째에 10칸 이상 떨어지는지 알 수 있다. \n",
    "3. 5000회 시뮬레이션을 할 수 있다. "
   ]
  },
  {
   "cell_type": "code",
   "execution_count": 1,
   "id": "ea5ce533",
   "metadata": {},
   "outputs": [],
   "source": [
    "import numpy as np"
   ]
  },
  {
   "cell_type": "code",
   "execution_count": 4,
   "id": "ccab88b8",
   "metadata": {},
   "outputs": [],
   "source": [
    "nsteps = 1000\n",
    "\n",
    "draws = np.random.randint(0, 2, size = nsteps)\n",
    "\n",
    "steps = np.where(draws ==1 , 1, -1)\n",
    "\n",
    "# 최종 위치\n",
    "walk = steps.cumsum()"
   ]
  },
  {
   "cell_type": "code",
   "execution_count": 5,
   "id": "a3ff2472",
   "metadata": {},
   "outputs": [
    {
     "data": {
      "text/plain": [
       "-18"
      ]
     },
     "execution_count": 5,
     "metadata": {},
     "output_type": "execute_result"
    }
   ],
   "source": [
    "walk.min()"
   ]
  },
  {
   "cell_type": "code",
   "execution_count": 6,
   "id": "7c1b1a08",
   "metadata": {},
   "outputs": [
    {
     "data": {
      "text/plain": [
       "30"
      ]
     },
     "execution_count": 6,
     "metadata": {},
     "output_type": "execute_result"
    }
   ],
   "source": [
    "walk.max()"
   ]
  },
  {
   "cell_type": "code",
   "execution_count": 7,
   "id": "875e98c5",
   "metadata": {},
   "outputs": [
    {
     "data": {
      "text/plain": [
       "119"
      ]
     },
     "execution_count": 7,
     "metadata": {},
     "output_type": "execute_result"
    }
   ],
   "source": [
    "(np.abs(walk) >= 10).argmax() # argmax : 가장 큰 값의 인덱스 반환"
   ]
  },
  {
   "cell_type": "code",
   "execution_count": 8,
   "id": "1420c9e9",
   "metadata": {},
   "outputs": [],
   "source": [
    "nwalks = 5000"
   ]
  },
  {
   "cell_type": "code",
   "execution_count": 9,
   "id": "7a327cdf",
   "metadata": {},
   "outputs": [],
   "source": [
    "nsteps = 1000"
   ]
  },
  {
   "cell_type": "code",
   "execution_count": 10,
   "id": "821a6e69",
   "metadata": {},
   "outputs": [],
   "source": [
    "draws = np.random.randint(0, 2, size = (5000, 1000))"
   ]
  },
  {
   "cell_type": "code",
   "execution_count": 11,
   "id": "e315d1fc",
   "metadata": {},
   "outputs": [],
   "source": [
    "steps = np.where(draws == 1, 1, -1)"
   ]
  },
  {
   "cell_type": "code",
   "execution_count": 12,
   "id": "c7481404",
   "metadata": {},
   "outputs": [
    {
     "data": {
      "text/plain": [
       "array([[-1, -1, -1, ..., -1, -1, -1],\n",
       "       [ 1, -1,  1, ...,  1,  1, -1],\n",
       "       [-1,  1,  1, ..., -1, -1, -1],\n",
       "       ...,\n",
       "       [-1,  1, -1, ..., -1, -1, -1],\n",
       "       [-1,  1,  1, ...,  1,  1,  1],\n",
       "       [ 1, -1,  1, ...,  1,  1, -1]])"
      ]
     },
     "execution_count": 12,
     "metadata": {},
     "output_type": "execute_result"
    }
   ],
   "source": [
    "steps"
   ]
  },
  {
   "cell_type": "code",
   "execution_count": 15,
   "id": "1a52c9eb",
   "metadata": {},
   "outputs": [],
   "source": [
    "walks = steps.cumsum(axis = 1)"
   ]
  },
  {
   "cell_type": "code",
   "execution_count": 16,
   "id": "957fa81b",
   "metadata": {},
   "outputs": [
    {
     "data": {
      "text/plain": [
       "array([[ -1,  -2,  -3, ..., -26, -27, -28],\n",
       "       [  1,   0,   1, ..., -16, -15, -16],\n",
       "       [ -1,   0,   1, ...,  74,  73,  72],\n",
       "       ...,\n",
       "       [ -1,   0,  -1, ...,   4,   3,   2],\n",
       "       [ -1,   0,   1, ...,  -4,  -3,  -2],\n",
       "       [  1,   0,   1, ...,   0,   1,   0]], dtype=int32)"
      ]
     },
     "execution_count": 16,
     "metadata": {},
     "output_type": "execute_result"
    }
   ],
   "source": [
    "walks"
   ]
  },
  {
   "cell_type": "code",
   "execution_count": 17,
   "id": "a46da553",
   "metadata": {},
   "outputs": [
    {
     "data": {
      "text/plain": [
       "125"
      ]
     },
     "execution_count": 17,
     "metadata": {},
     "output_type": "execute_result"
    }
   ],
   "source": [
    "walks.max()"
   ]
  },
  {
   "cell_type": "code",
   "execution_count": 18,
   "id": "a5faa654",
   "metadata": {},
   "outputs": [
    {
     "data": {
      "text/plain": [
       "-109"
      ]
     },
     "execution_count": 18,
     "metadata": {},
     "output_type": "execute_result"
    }
   ],
   "source": [
    "walks.min()"
   ]
  },
  {
   "cell_type": "code",
   "execution_count": 22,
   "id": "10f95a31",
   "metadata": {},
   "outputs": [],
   "source": [
    "hist30 = (np.abs(walks) >= 30).any(axis = 1)"
   ]
  },
  {
   "cell_type": "code",
   "execution_count": 23,
   "id": "5be3f50a",
   "metadata": {},
   "outputs": [
    {
     "data": {
      "text/plain": [
       "array([ True,  True,  True, ..., False, False,  True])"
      ]
     },
     "execution_count": 23,
     "metadata": {},
     "output_type": "execute_result"
    }
   ],
   "source": [
    "hist30"
   ]
  },
  {
   "cell_type": "code",
   "execution_count": 24,
   "id": "a89abea2",
   "metadata": {},
   "outputs": [
    {
     "data": {
      "text/plain": [
       "3351"
      ]
     },
     "execution_count": 24,
     "metadata": {},
     "output_type": "execute_result"
    }
   ],
   "source": [
    "hist30.sum()"
   ]
  },
  {
   "cell_type": "code",
   "execution_count": 27,
   "id": "1b941155",
   "metadata": {},
   "outputs": [],
   "source": [
    "example = np.array([True, True, False, False, True])"
   ]
  },
  {
   "cell_type": "code",
   "execution_count": 28,
   "id": "095b9edc",
   "metadata": {},
   "outputs": [
    {
     "data": {
      "text/plain": [
       "3"
      ]
     },
     "execution_count": 28,
     "metadata": {},
     "output_type": "execute_result"
    }
   ],
   "source": [
    "example.sum()"
   ]
  },
  {
   "cell_type": "code",
   "execution_count": 31,
   "id": "f222280e",
   "metadata": {},
   "outputs": [],
   "source": [
    "crossing_times = np.abs(walks[hist30] >= 30).argmax(1)"
   ]
  },
  {
   "cell_type": "code",
   "execution_count": 32,
   "id": "27d33b77",
   "metadata": {},
   "outputs": [
    {
     "data": {
      "text/plain": [
       "array([  0,   0, 423, ..., 573, 889, 557], dtype=int64)"
      ]
     },
     "execution_count": 32,
     "metadata": {},
     "output_type": "execute_result"
    }
   ],
   "source": [
    "crossing_times"
   ]
  },
  {
   "cell_type": "code",
   "execution_count": 33,
   "id": "f6c20c4a",
   "metadata": {},
   "outputs": [
    {
     "data": {
      "text/plain": [
       "259.74544911966575"
      ]
     },
     "execution_count": 33,
     "metadata": {},
     "output_type": "execute_result"
    }
   ],
   "source": [
    "crossing_times.mean()"
   ]
  },
  {
   "cell_type": "code",
   "execution_count": null,
   "id": "2a5a486e",
   "metadata": {},
   "outputs": [],
   "source": []
  }
 ],
 "metadata": {
  "kernelspec": {
   "display_name": "Python 3 (ipykernel)",
   "language": "python",
   "name": "python3"
  },
  "language_info": {
   "codemirror_mode": {
    "name": "ipython",
    "version": 3
   },
   "file_extension": ".py",
   "mimetype": "text/x-python",
   "name": "python",
   "nbconvert_exporter": "python",
   "pygments_lexer": "ipython3",
   "version": "3.9.7"
  }
 },
 "nbformat": 4,
 "nbformat_minor": 5
}
