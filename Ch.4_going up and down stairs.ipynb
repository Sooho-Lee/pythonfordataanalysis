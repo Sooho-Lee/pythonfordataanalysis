{
 "cells": [
  {
   "cell_type": "markdown",
   "id": "23dfef25",
   "metadata": {},
   "source": [
    "- 배열 연산의 활용\n",
    "- 계단 중간에서 같은 확률로 한 계단 올라가거나 내려간다\n",
    "- 계단 오르내리기는 오르기(+1)와 내리기(-1)의 누적합이다. \n",
    "- np.module을 사용해서 1000번 수행한 결과 (1, -1)을 한 번에 저장하고 누적합을 계산한다. "
   ]
  },
  {
   "cell_type": "code",
   "execution_count": 8,
   "id": "53532b4c",
   "metadata": {},
   "outputs": [],
   "source": [
    "import numpy as np"
   ]
  },
  {
   "cell_type": "code",
   "execution_count": 9,
   "id": "c55560a7",
   "metadata": {},
   "outputs": [],
   "source": [
    "nsteps = 1000  # 계단 오르내리기 1000번 수행\n",
    "\n",
    "draws = np.random.randint(0, 2, size = nsteps)  # 0~1까지의 랜덤 숫자 size개 뽑아내기\n",
    "\n",
    "steps = np.where(draws > 0, 1, -1)  # draw가 0이면 -1, 1이면 1\n",
    "\n",
    "walk = steps.cumsum()  # step의 누적합"
   ]
  },
  {
   "cell_type": "code",
   "execution_count": 10,
   "id": "51d02686",
   "metadata": {},
   "outputs": [
    {
     "data": {
      "text/plain": [
       "array([ -1,  -2,  -3,  -4,  -3,  -4,  -3,  -2,  -1,   0,  -1,  -2,  -1,\n",
       "        -2,  -1,  -2,  -3,  -2,  -3,  -4,  -5,  -6,  -5,  -4,  -3,  -2,\n",
       "        -3,  -2,  -1,   0,   1,   2,   1,   2,   1,   0,  -1,   0,   1,\n",
       "         2,   3,   2,   3,   4,   5,   4,   3,   2,   1,   2,   3,   4,\n",
       "         3,   4,   5,   4,   3,   4,   3,   2,   1,   0,  -1,  -2,  -3,\n",
       "        -4,  -3,  -4,  -3,  -2,  -1,  -2,  -1,   0,  -1,  -2,  -1,   0,\n",
       "         1,   0,  -1,   0,  -1,   0,  -1,   0,  -1,  -2,  -1,   0,   1,\n",
       "         2,   1,   2,   1,   0,   1,   2,   1,   0,   1,   0,   1,   0,\n",
       "         1,   0,   1,   2,   3,   4,   5,   4,   5,   4,   5,   4,   3,\n",
       "         2,   1,   2,   1,   2,   1,   2,   3,   2,   1,   2,   1,   2,\n",
       "         1,   2,   3,   2,   3,   4,   3,   4,   5,   4,   5,   4,   3,\n",
       "         2,   1,   0,   1,   2,   3,   2,   3,   2,   1,   2,   3,   2,\n",
       "         3,   4,   3,   4,   5,   6,   7,   8,   7,   6,   5,   6,   5,\n",
       "         4,   5,   6,   7,   6,   5,   6,   5,   4,   5,   4,   3,   4,\n",
       "         5,   4,   3,   2,   3,   2,   1,   0,   1,   2,   1,   0,  -1,\n",
       "         0,   1,   0,   1,   2,   1,   2,   3,   4,   5,   4,   3,   2,\n",
       "         3,   4,   5,   6,   7,   6,   5,   4,   5,   6,   7,   8,   9,\n",
       "        10,   9,   8,   7,   8,   9,  10,  11,  12,  13,  12,  11,  12,\n",
       "        13,  12,  11,  10,  11,  10,  11,  10,   9,  10,  11,  10,   9,\n",
       "         8,   7,   8,   9,  10,   9,   8,   9,   8,   7,   8,   7,   6,\n",
       "         5,   6,   5,   6,   5,   6,   7,   6,   7,   8,   7,   8,   9,\n",
       "         8,   9,  10,   9,   8,   9,   8,   9,  10,  11,  12,  13,  12,\n",
       "        13,  14,  13,  14,  13,  14,  15,  14,  15,  16,  15,  14,  15,\n",
       "        14,  13,  12,  13,  14,  15,  14,  15,  14,  13,  12,  13,  14,\n",
       "        13,  14,  13,  14,  13,  12,  13,  12,  11,  10,  11,  10,  11,\n",
       "        12,  11,  12,  13,  12,  11,  12,  13,  14,  15,  16,  17,  16,\n",
       "        15,  16,  17,  16,  17,  16,  17,  16,  17,  16,  15,  14,  15,\n",
       "        16,  15,  14,  15,  16,  15,  14,  13,  12,  11,  12,  11,  10,\n",
       "         9,   8,   9,   8,   9,   8,   9,   8,   7,   6,   7,   6,   5,\n",
       "         4,   5,   6,   5,   4,   5,   6,   7,   6,   5,   6,   5,   6,\n",
       "         7,   8,   9,   8,   7,   6,   5,   4,   3,   2,   3,   2,   3,\n",
       "         2,   1,   0,  -1,  -2,  -3,  -4,  -5,  -4,  -3,  -4,  -5,  -6,\n",
       "        -5,  -6,  -5,  -4,  -3,  -2,  -1,   0,  -1,  -2,  -3,  -4,  -3,\n",
       "        -2,  -3,  -2,  -3,  -4,  -3,  -2,  -3,  -4,  -3,  -4,  -3,  -2,\n",
       "        -3,  -4,  -5,  -4,  -3,  -4,  -3,  -4,  -3,  -2,  -3,  -2,  -1,\n",
       "        -2,  -3,  -2,  -3,  -2,  -1,  -2,  -1,  -2,  -3,  -4,  -5,  -6,\n",
       "        -5,  -4,  -5,  -4,  -3,  -4,  -3,  -2,  -3,  -4,  -5,  -4,  -3,\n",
       "        -2,  -3,  -2,  -1,  -2,  -1,   0,   1,   0,  -1,   0,   1,   0,\n",
       "         1,   0,  -1,  -2,  -1,   0,  -1,   0,  -1,   0,   1,   2,   1,\n",
       "         2,   1,   2,   1,   2,   1,   0,   1,   2,   3,   4,   3,   2,\n",
       "         3,   2,   1,   2,   3,   4,   3,   4,   3,   4,   3,   4,   3,\n",
       "         4,   5,   6,   7,   8,   7,   6,   7,   6,   5,   4,   3,   2,\n",
       "         3,   2,   3,   2,   1,   2,   3,   2,   1,   0,  -1,   0,  -1,\n",
       "         0,   1,   2,   3,   2,   3,   4,   5,   4,   3,   2,   1,   2,\n",
       "         3,   2,   3,   2,   3,   4,   3,   2,   3,   4,   3,   4,   3,\n",
       "         4,   5,   4,   3,   2,   3,   2,   1,   0,   1,   0,  -1,   0,\n",
       "        -1,   0,  -1,   0,   1,   0,  -1,   0,   1,   0,   1,   2,   3,\n",
       "         4,   5,   4,   3,   2,   1,   0,   1,   2,   1,   0,   1,   2,\n",
       "         3,   2,   3,   2,   3,   2,   3,   2,   1,   2,   1,   2,   1,\n",
       "         0,   1,   2,   1,   2,   3,   2,   1,   0,   1,   0,  -1,  -2,\n",
       "        -1,  -2,  -3,  -4,  -5,  -6,  -7,  -8,  -7,  -8,  -9, -10,  -9,\n",
       "       -10,  -9,  -8,  -7,  -6,  -7,  -8,  -9,  -8,  -9,  -8,  -7,  -8,\n",
       "        -7,  -6,  -5,  -6,  -7,  -6,  -5,  -4,  -5,  -6,  -5,  -4,  -5,\n",
       "        -4,  -5,  -4,  -5,  -4,  -5,  -6,  -7,  -8,  -7,  -8,  -7,  -8,\n",
       "        -9,  -8,  -9,  -8,  -7,  -6,  -5,  -6,  -5,  -6,  -7,  -6,  -5,\n",
       "        -6,  -7,  -8,  -7,  -8,  -9, -10, -11, -12, -13, -12, -13, -12,\n",
       "       -11, -12, -11, -10,  -9,  -8,  -9,  -8,  -9,  -8,  -7,  -6,  -5,\n",
       "        -6,  -7,  -6,  -5,  -4,  -3,  -4,  -3,  -4,  -3,  -4,  -3,  -4,\n",
       "        -5,  -6,  -7,  -6,  -5,  -4,  -5,  -6,  -7,  -8,  -7,  -8,  -7,\n",
       "        -6,  -5,  -4,  -3,  -4,  -5,  -6,  -5,  -6,  -5,  -6,  -5,  -6,\n",
       "        -5,  -6,  -5,  -4,  -3,  -4,  -3,  -4,  -3,  -4,  -3,  -2,  -3,\n",
       "        -4,  -3,  -2,  -1,   0,   1,   0,  -1,  -2,  -1,  -2,  -3,  -4,\n",
       "        -3,  -2,  -1,   0,   1,   2,   3,   4,   3,   2,   1,   0,   1,\n",
       "         2,   3,   4,   3,   2,   3,   4,   5,   4,   3,   2,   3,   4,\n",
       "         3,   2,   1,   0,   1,   0,   1,   2,   1,   2,   3,   4,   5,\n",
       "         4,   5,   4,   5,   6,   7,   6,   5,   6,   7,   8,   7,   6,\n",
       "         7,   6,   7,   6,   7,   6,   7,   8,   7,   6,   7,   6,   7,\n",
       "         8,   7,   6,   5,   4,   5,   6,   7,   6,   7,   6,   7,   8,\n",
       "         9,   8,   9,  10,   9,   8,   9,   8,   7,   8,   9,   8,   7,\n",
       "         8,   9,   8,   7,   6,   7,   6,   7,   6,   5,   6,   5,   6,\n",
       "         5,   4,   3,   4,   3,   2,   1,   2,   1,   0,  -1,   0,  -1,\n",
       "        -2,  -3,  -4,  -3,  -2,  -1,   0,  -1,  -2,  -1,  -2,  -3,  -4,\n",
       "        -3,  -4,  -5,  -6,  -7,  -8,  -7,  -8,  -7,  -8,  -9, -10,  -9,\n",
       "       -10, -11, -12, -11, -12, -11, -12, -11, -10, -11, -10,  -9,  -8,\n",
       "        -9, -10,  -9, -10,  -9,  -8,  -9, -10, -11, -12, -13, -14, -15,\n",
       "       -16, -17, -16, -15, -16, -15, -14, -13, -14, -13, -14, -15, -14,\n",
       "       -15, -16, -17, -16, -15, -16, -17, -16, -15, -14, -15, -16],\n",
       "      dtype=int32)"
      ]
     },
     "execution_count": 10,
     "metadata": {},
     "output_type": "execute_result"
    }
   ],
   "source": [
    "walk"
   ]
  },
  {
   "cell_type": "code",
   "execution_count": 11,
   "id": "8d9df8b8",
   "metadata": {},
   "outputs": [
    {
     "data": {
      "text/plain": [
       "-17"
      ]
     },
     "execution_count": 11,
     "metadata": {},
     "output_type": "execute_result"
    }
   ],
   "source": [
    "walk.min()  # 계단을 오르내린 위치의 최솟값"
   ]
  },
  {
   "cell_type": "code",
   "execution_count": 12,
   "id": "24c73f1b",
   "metadata": {},
   "outputs": [
    {
     "data": {
      "text/plain": [
       "17"
      ]
     },
     "execution_count": 12,
     "metadata": {},
     "output_type": "execute_result"
    }
   ],
   "source": [
    "walk.max()  # 계단을 오르내린 위치의 최댓값"
   ]
  },
  {
   "cell_type": "code",
   "execution_count": 14,
   "id": "904e1dd0",
   "metadata": {},
   "outputs": [
    {
     "data": {
      "text/plain": [
       "221"
      ]
     },
     "execution_count": 14,
     "metadata": {},
     "output_type": "execute_result"
    }
   ],
   "source": [
    "#---- 계단에서 특정 위치에 도달하기까지의 시간\n",
    "(np.abs(walk) >= 10).argmax()  # 처음에서 10간 이상 떨어진 걸음부터 True로 한다. 최초로 10칸 이상 떨어진적이 몇번째인지 알자"
   ]
  },
  {
   "cell_type": "markdown",
   "id": "08e4c0f9",
   "metadata": {},
   "source": [
    "계단 오르내리기를 많은 횟수(5000번) 시뮬레이션\n",
    "- numpy.random 함수으ㅔ 크기가 2인 튜플을 넘기면 2차원 배열이 생성되고 각 컬럼에서 누적합을 구하기"
   ]
  },
  {
   "cell_type": "code",
   "execution_count": 18,
   "id": "91916297",
   "metadata": {},
   "outputs": [
    {
     "data": {
      "text/plain": [
       "array([[ -1,  -2,  -3, ..., -32, -31, -30],\n",
       "       [ -1,   0,  -1, ..., -50, -49, -48],\n",
       "       [  1,   0,  -1, ...,  24,  23,  22],\n",
       "       ...,\n",
       "       [  1,   0,   1, ...,  18,  17,  16],\n",
       "       [  1,   2,   1, ...,  -4,  -3,  -4],\n",
       "       [  1,   2,   1, ...,   6,   7,   8]], dtype=int32)"
      ]
     },
     "execution_count": 18,
     "metadata": {},
     "output_type": "execute_result"
    }
   ],
   "source": [
    "nwalks = 5000\n",
    "\n",
    "nstep = 1000\n",
    "\n",
    "draws = np.random.randint(0, 2, size = (nwalks, nsteps))  # 0또는 1로 구성된 5000행, 1000열을 만든다\n",
    "\n",
    "steps = np.where(draws > 0, 1, -1)\n",
    "\n",
    "walks = steps.cumsum(1)\n",
    "\n",
    "walks"
   ]
  },
  {
   "cell_type": "code",
   "execution_count": 19,
   "id": "ec92152a",
   "metadata": {},
   "outputs": [
    {
     "data": {
      "text/plain": [
       "(1000,)"
      ]
     },
     "execution_count": 19,
     "metadata": {},
     "output_type": "execute_result"
    }
   ],
   "source": [
    "walk.shape"
   ]
  },
  {
   "cell_type": "code",
   "execution_count": 20,
   "id": "f1d1cfb6",
   "metadata": {},
   "outputs": [
    {
     "data": {
      "text/plain": [
       "118"
      ]
     },
     "execution_count": 20,
     "metadata": {},
     "output_type": "execute_result"
    }
   ],
   "source": [
    "walks.max()"
   ]
  },
  {
   "cell_type": "code",
   "execution_count": 21,
   "id": "467b62e8",
   "metadata": {},
   "outputs": [
    {
     "data": {
      "text/plain": [
       "-105"
      ]
     },
     "execution_count": 21,
     "metadata": {},
     "output_type": "execute_result"
    }
   ],
   "source": [
    "walks.min()"
   ]
  },
  {
   "cell_type": "code",
   "execution_count": 22,
   "id": "b4057578",
   "metadata": {},
   "outputs": [],
   "source": [
    "# 누적합이 30 또는 -30이 되는 최소 시점 계산하기\n",
    "hist30 = (np.abs(walks) >= 30).any(1)"
   ]
  },
  {
   "cell_type": "code",
   "execution_count": 23,
   "id": "8d7edcc8",
   "metadata": {},
   "outputs": [
    {
     "data": {
      "text/plain": [
       "array([ True,  True, False, ..., False, False, False])"
      ]
     },
     "execution_count": 23,
     "metadata": {},
     "output_type": "execute_result"
    }
   ],
   "source": [
    "hist30"
   ]
  },
  {
   "cell_type": "code",
   "execution_count": 24,
   "id": "ec1d7dd6",
   "metadata": {},
   "outputs": [
    {
     "data": {
      "text/plain": [
       "3371"
      ]
     },
     "execution_count": 24,
     "metadata": {},
     "output_type": "execute_result"
    }
   ],
   "source": [
    "hist30.sum()"
   ]
  },
  {
   "cell_type": "code",
   "execution_count": 25,
   "id": "9a1ef450",
   "metadata": {},
   "outputs": [],
   "source": [
    "crossing_times = (np.abs(walks[hist30]) >= 30).argmax(1)"
   ]
  },
  {
   "cell_type": "code",
   "execution_count": 26,
   "id": "855e4797",
   "metadata": {},
   "outputs": [
    {
     "data": {
      "text/plain": [
       "501.5398991397212"
      ]
     },
     "execution_count": 26,
     "metadata": {},
     "output_type": "execute_result"
    }
   ],
   "source": [
    "crossing_times.mean()"
   ]
  }
 ],
 "metadata": {
  "kernelspec": {
   "display_name": "Python 3 (ipykernel)",
   "language": "python",
   "name": "python3"
  },
  "language_info": {
   "codemirror_mode": {
    "name": "ipython",
    "version": 3
   },
   "file_extension": ".py",
   "mimetype": "text/x-python",
   "name": "python",
   "nbconvert_exporter": "python",
   "pygments_lexer": "ipython3",
   "version": "3.9.7"
  }
 },
 "nbformat": 4,
 "nbformat_minor": 5
}
